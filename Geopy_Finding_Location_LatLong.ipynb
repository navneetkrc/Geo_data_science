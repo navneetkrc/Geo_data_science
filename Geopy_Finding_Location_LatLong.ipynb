{
  "nbformat": 4,
  "nbformat_minor": 0,
  "metadata": {
    "kernelspec": {
      "display_name": "Python 3",
      "language": "python",
      "name": "python3"
    },
    "language_info": {
      "codemirror_mode": {
        "name": "ipython",
        "version": 3
      },
      "file_extension": ".py",
      "mimetype": "text/x-python",
      "name": "python",
      "nbconvert_exporter": "python",
      "pygments_lexer": "ipython3",
      "version": "3.6.8"
    },
    "colab": {
      "name": "Geopy Finding Location LatLong.ipynb",
      "provenance": [],
      "collapsed_sections": [],
      "include_colab_link": true
    }
  },
  "cells": [
    {
      "cell_type": "markdown",
      "metadata": {
        "id": "view-in-github",
        "colab_type": "text"
      },
      "source": [
        "<a href=\"https://colab.research.google.com/github/navneetkrc/Geo_data_science/blob/master/Geopy_Finding_Location_LatLong.ipynb\" target=\"_parent\"><img src=\"https://colab.research.google.com/assets/colab-badge.svg\" alt=\"Open In Colab\"/></a>"
      ]
    },
    {
      "cell_type": "markdown",
      "metadata": {
        "id": "b7OcJ741uxnq",
        "colab_type": "text"
      },
      "source": [
        "#Install Dependencies"
      ]
    },
    {
      "cell_type": "code",
      "metadata": {
        "id": "W7WwC_cSzeKe",
        "colab_type": "code",
        "colab": {}
      },
      "source": [
        "!pip install geopy --quiet"
      ],
      "execution_count": 0,
      "outputs": []
    },
    {
      "cell_type": "code",
      "metadata": {
        "id": "zMpuneiCyPFe",
        "colab_type": "code",
        "colab": {}
      },
      "source": [
        "#import dependent libraries\n",
        "from geopy.geocoders import Nominatim\n",
        "geolocator = Nominatim(user_agent=\"ysi_tutorial\")"
      ],
      "execution_count": 0,
      "outputs": []
    },
    {
      "cell_type": "markdown",
      "metadata": {
        "id": "3ZFw8o0-O2vw",
        "colab_type": "text"
      },
      "source": [
        "##Explain and experiment with Geocoding:-\n",
        "Other examples of Geocoding with different Location names\n",
        "We can test whether or not our model will be able to find the names that we want by changing any of the names here.\n",
        "\n",
        "Ideally we want to test our queries for location directly from here."
      ]
    },
    {
      "cell_type": "code",
      "metadata": {
        "id": "6pE5YeBZyPGv",
        "colab_type": "code",
        "outputId": "30f610d5-face-4bd2-f852-590cb46bcae9",
        "colab": {
          "base_uri": "https://localhost:8080/",
          "height": 207
        }
      },
      "source": [
        "print(geolocator.geocode(\"HSR Layout\").latitude, geolocator.geocode(\"HSR Layout\").longitude)\n",
        "print(geolocator.geocode(\"HSR Layout\").raw)  # From address\n",
        "print(geolocator.geocode(\"BEML Layout\").address)  # From address\n",
        "print(geolocator.geocode(\"AECS Layout\").address)  # From address\n",
        "print(geolocator.geocode(\"BTM Layout\").address)  # From address\n",
        "print(geolocator.geocode(\"Indiranagar\").address)  # From address\n",
        "print(geolocator.geocode(\"Bellandur\").address)  # From address\n",
        "print(geolocator.geocode(\"Marathahalli\").address)  # From address\n",
        "print(geolocator.geocode(\"Electronic City\").address)  # From address\n",
        "print(geolocator.geocode(\"Electronic City Bengaluru\").address)  # From address\n"
      ],
      "execution_count": 17,
      "outputs": [
        {
          "output_type": "stream",
          "text": [
            "12.9116225 77.6388622\n",
            "{'place_id': 4095278, 'licence': 'Data © OpenStreetMap contributors, ODbL 1.0. https://osm.org/copyright', 'osm_type': 'node', 'osm_id': 456016994, 'boundingbox': ['12.8916225', '12.9316225', '77.6188622', '77.6588622'], 'lat': '12.9116225', 'lon': '77.6388622', 'display_name': 'HSR Layout, Bommanahalli Zone, Bengaluru, Bangalore South, Bangalore Urban, Karnataka, PINATA, India', 'class': 'place', 'type': 'suburb', 'importance': 0.45, 'icon': 'https://nominatim.openstreetmap.org/images/mapicons/poi_place_village.p.20.png'}\n",
            "BEML Layout, Dodda Nekkundi, Mahadevapura Zone, Bengaluru, Bangalore East, Bangalore Urban, Karnataka, India\n",
            "AECS Layout, East Zone, Bengaluru, Bangalore North, Bangalore Urban, Karnataka, 560094, India\n",
            "BTM Layout, South Zone, Bengaluru, Bangalore South, Bangalore Urban, Karnataka, - 560034, India\n",
            "Indiranagar, East Zone, Bengaluru, Bangalore East, Bangalore Urban, Karnataka, 560038, India\n",
            "Bellandur Lake, Swagger Road, HSR Layout Ward, Bommanahalli Zone, Bengaluru, Bangalore South, Bangalore Urban, Karnataka, 530103, India\n",
            "Marathahalli, Mahadevapura Zone, Bengaluru, Bangalore East, Bangalore Urban, Karnataka, 560037, India\n",
            "Electronic City, Reid Street, Hamilton, City of Hamilton, HM 12, Bermuda\n",
            "Bengaluru, Bangalore North, Bangalore Urban, Karnataka, India\n"
          ],
          "name": "stdout"
        }
      ]
    },
    {
      "cell_type": "code",
      "metadata": {
        "id": "DasgCpETUqGw",
        "colab_type": "code",
        "outputId": "1c01a411-f711-4cc6-846a-cba9c2684e97",
        "colab": {
          "base_uri": "https://localhost:8080/",
          "height": 105
        }
      },
      "source": [
        "location = geolocator.geocode(\"HSR Layout\")\n",
        "print(location.address)\n",
        "#HSR Layout, Bommanahalli Zone, Bengaluru, Bangalore South, Bangalore Urban, Karnataka, PINATA, India\n",
        "print((location.latitude, location.longitude))\n",
        "#(12.9116225, 77.6388622)\n",
        "\n",
        "print(location.raw)\n",
        "#{'place_id': 4095278, 'licence': 'Data © OpenStreetMap contributors, ODbL 1.0. https://osm.org/copyright', 'osm_type': 'node', 'osm_id': 456016994, 'boundingbox': ['12.8916225', '12.9316225', '77.6188622', '77.6588622'], 'lat': '12.9116225', 'lon': '77.6388622', 'display_name': 'HSR Layout, Bommanahalli Zone, Bengaluru, Bangalore South, Bangalore Urban, Karnataka, PINATA, India', 'class': 'place', 'type': 'suburb', 'importance': 0.45, 'icon': 'https://nominatim.openstreetmap.org/images/mapicons/poi_place_village.p.20.png'}\n",
        "\n",
        "print(location.address)"
      ],
      "execution_count": 18,
      "outputs": [
        {
          "output_type": "stream",
          "text": [
            "HSR Layout, Bommanahalli Zone, Bengaluru, Bangalore South, Bangalore Urban, Karnataka, PINATA, India\n",
            "(12.9116225, 77.6388622)\n",
            "{'place_id': 4095278, 'licence': 'Data © OpenStreetMap contributors, ODbL 1.0. https://osm.org/copyright', 'osm_type': 'node', 'osm_id': 456016994, 'boundingbox': ['12.8916225', '12.9316225', '77.6188622', '77.6588622'], 'lat': '12.9116225', 'lon': '77.6388622', 'display_name': 'HSR Layout, Bommanahalli Zone, Bengaluru, Bangalore South, Bangalore Urban, Karnataka, PINATA, India', 'class': 'place', 'type': 'suburb', 'importance': 0.45, 'icon': 'https://nominatim.openstreetmap.org/images/mapicons/poi_place_village.p.20.png'}\n",
            "HSR Layout, Bommanahalli Zone, Bengaluru, Bangalore South, Bangalore Urban, Karnataka, PINATA, India\n"
          ],
          "name": "stdout"
        }
      ]
    },
    {
      "cell_type": "code",
      "metadata": {
        "id": "Xb_V6t82VFAS",
        "colab_type": "code",
        "outputId": "f17054d6-1f77-4404-d84a-c792267ca1e8",
        "colab": {
          "base_uri": "https://localhost:8080/",
          "height": 88
        }
      },
      "source": [
        "location = geolocator.geocode(\"BTM Layout\")\n",
        "print(location.address)\n",
        "print((location.latitude, location.longitude))\n",
        "print(location.raw)\n",
        "\n",
        "#BTM Layout, South Zone, Bengaluru, Bangalore South, Bangalore Urban, Karnataka, - 560034, India\n",
        "#(12.9151772, 77.6102821)\n",
        "#{'place_id': 4022631, 'licence': 'Data © OpenStreetMap contributors, ODbL 1.0. https://osm.org/copyright', 'osm_type': 'node', 'osm_id': 447032046, 'boundingbox': ['12.8951772', '12.9351772', '77.5902821', '77.6302821'], 'lat': '12.9151772', 'lon': '77.6102821', 'display_name': 'BTM Layout, South Zone, Bengaluru, Bangalore South, Bangalore Urban, Karnataka, - 560034, India', 'class': 'place', 'type': 'suburb', 'importance': 0.45, 'icon': 'https://nominatim.openstreetmap.org/images/mapicons/poi_place_village.p.20.png'}\n"
      ],
      "execution_count": 19,
      "outputs": [
        {
          "output_type": "stream",
          "text": [
            "BTM Layout, South Zone, Bengaluru, Bangalore South, Bangalore Urban, Karnataka, - 560034, India\n",
            "(12.9151772, 77.6102821)\n",
            "{'place_id': 4022631, 'licence': 'Data © OpenStreetMap contributors, ODbL 1.0. https://osm.org/copyright', 'osm_type': 'node', 'osm_id': 447032046, 'boundingbox': ['12.8951772', '12.9351772', '77.5902821', '77.6302821'], 'lat': '12.9151772', 'lon': '77.6102821', 'display_name': 'BTM Layout, South Zone, Bengaluru, Bangalore South, Bangalore Urban, Karnataka, - 560034, India', 'class': 'place', 'type': 'suburb', 'importance': 0.45, 'icon': 'https://nominatim.openstreetmap.org/images/mapicons/poi_place_village.p.20.png'}\n"
          ],
          "name": "stdout"
        }
      ]
    },
    {
      "cell_type": "code",
      "metadata": {
        "colab_type": "code",
        "id": "g71wKRU7VTE-",
        "outputId": "2e8ac020-11a7-46e7-9d5c-138685d81dce",
        "colab": {
          "base_uri": "https://localhost:8080/",
          "height": 88
        }
      },
      "source": [
        "location = geolocator.geocode(\"Indiranagar\")\n",
        "print(location.address)\n",
        "print((location.latitude, location.longitude))\n",
        "print(location.raw)\n",
        "\n",
        "#Indiranagar, East Zone, Bengaluru, Bangalore East, Bangalore Urban, Karnataka, 560038, India\n",
        "#(12.9732913, 77.6404672)\n",
        "#{'place_id': 4123761, 'licence': 'Data © OpenStreetMap contributors, ODbL 1.0. https://osm.org/copyright', 'osm_type': 'node', 'osm_id': 448991617, 'boundingbox': ['12.9532913', '12.9932913', '77.6204672', '77.6604672'], 'lat': '12.9732913', 'lon': '77.6404672', 'display_name': 'Indiranagar, East Zone, Bengaluru, Bangalore East, Bangalore Urban, Karnataka, 560038, India', 'class': 'place', 'type': 'suburb', 'importance': 0.48168560245017655, 'icon': 'https://nominatim.openstreetmap.org/images/mapicons/poi_place_village.p.20.png'}\n"
      ],
      "execution_count": 20,
      "outputs": [
        {
          "output_type": "stream",
          "text": [
            "Indiranagar, East Zone, Bengaluru, Bangalore East, Bangalore Urban, Karnataka, 560038, India\n",
            "(12.9732913, 77.6404672)\n",
            "{'place_id': 4123761, 'licence': 'Data © OpenStreetMap contributors, ODbL 1.0. https://osm.org/copyright', 'osm_type': 'node', 'osm_id': 448991617, 'boundingbox': ['12.9532913', '12.9932913', '77.6204672', '77.6604672'], 'lat': '12.9732913', 'lon': '77.6404672', 'display_name': 'Indiranagar, East Zone, Bengaluru, Bangalore East, Bangalore Urban, Karnataka, 560038, India', 'class': 'place', 'type': 'suburb', 'importance': 0.48168560245017655, 'icon': 'https://nominatim.openstreetmap.org/images/mapicons/poi_place_village.p.20.png'}\n"
          ],
          "name": "stdout"
        }
      ]
    },
    {
      "cell_type": "code",
      "metadata": {
        "colab_type": "code",
        "id": "fZQw-hItVVDI",
        "outputId": "305b7d75-8d2b-4085-f4a4-e096af3b638c",
        "colab": {
          "base_uri": "https://localhost:8080/",
          "height": 88
        }
      },
      "source": [
        "location = geolocator.geocode(\"Marathahalli\")\n",
        "print(location.address)\n",
        "print((location.latitude, location.longitude))\n",
        "print(location.raw)\n",
        "\n",
        "#Marathahalli, Mahadevapura Zone, Bengaluru, Bangalore East, Bangalore Urban, Karnataka, 560037, India\n",
        "#(12.9552572, 77.6984163)\n",
        "#{'place_id': 3957309, 'licence': 'Data © OpenStreetMap contributors, ODbL 1.0. https://osm.org/copyright', 'osm_type': 'node', 'osm_id': 442068273, 'boundingbox': ['12.9352572', '12.9752572', '77.6784163', '77.7184163'], 'lat': '12.9552572', 'lon': '77.6984163', 'display_name': 'Marathahalli, Mahadevapura Zone, Bengaluru, Bangalore East, Bangalore Urban, Karnataka, 560037, India', 'class': 'place', 'type': 'suburb', 'importance': 0.36, 'icon': 'https://nominatim.openstreetmap.org/images/mapicons/poi_place_village.p.20.png'}\n"
      ],
      "execution_count": 21,
      "outputs": [
        {
          "output_type": "stream",
          "text": [
            "Marathahalli, Mahadevapura Zone, Bengaluru, Bangalore East, Bangalore Urban, Karnataka, 560037, India\n",
            "(12.9552572, 77.6984163)\n",
            "{'place_id': 3957309, 'licence': 'Data © OpenStreetMap contributors, ODbL 1.0. https://osm.org/copyright', 'osm_type': 'node', 'osm_id': 442068273, 'boundingbox': ['12.9352572', '12.9752572', '77.6784163', '77.7184163'], 'lat': '12.9552572', 'lon': '77.6984163', 'display_name': 'Marathahalli, Mahadevapura Zone, Bengaluru, Bangalore East, Bangalore Urban, Karnataka, 560037, India', 'class': 'place', 'type': 'suburb', 'importance': 0.36, 'icon': 'https://nominatim.openstreetmap.org/images/mapicons/poi_place_village.p.20.png'}\n"
          ],
          "name": "stdout"
        }
      ]
    },
    {
      "cell_type": "code",
      "metadata": {
        "colab_type": "code",
        "id": "sjCQSWgyVRx7",
        "outputId": "d5cdb00b-0837-43cd-8fb6-5a9b12190055",
        "colab": {
          "base_uri": "https://localhost:8080/",
          "height": 88
        }
      },
      "source": [
        "location = geolocator.geocode(\"Koramangala\")\n",
        "print(location.address)\n",
        "#Koramangala, Devanahalli taluk, Bangalore Rural, Karnataka, India\n",
        "print((location.latitude, location.longitude))\n",
        "#(13.2923988, 77.7519261)\n",
        "print(location.raw)\n",
        "#{'place_id': 43136649, 'licence': 'Data © OpenStreetMap contributors, ODbL 1.0. https://osm.org/copyright', 'osm_type': 'node', 'osm_id': 3192025629, 'boundingbox': ['13.2723988', '13.3123988', '77.7319261', '77.7719261'], 'lat': '13.2923988', 'lon': '77.7519261', 'display_name': 'Koramangala, Devanahalli taluk, Bangalore Rural, Karnataka, India', 'class': 'place', 'type': 'village', 'importance': 0.385, 'icon': 'https://nominatim.openstreetmap.org/images/mapicons/poi_place_village.p.20.png'}"
      ],
      "execution_count": 22,
      "outputs": [
        {
          "output_type": "stream",
          "text": [
            "Koramangala, Devanahalli taluk, Bangalore Rural, Karnataka, India\n",
            "(13.2923988, 77.7519261)\n",
            "{'place_id': 43136649, 'licence': 'Data © OpenStreetMap contributors, ODbL 1.0. https://osm.org/copyright', 'osm_type': 'node', 'osm_id': 3192025629, 'boundingbox': ['13.2723988', '13.3123988', '77.7319261', '77.7719261'], 'lat': '13.2923988', 'lon': '77.7519261', 'display_name': 'Koramangala, Devanahalli taluk, Bangalore Rural, Karnataka, India', 'class': 'place', 'type': 'village', 'importance': 0.385, 'icon': 'https://nominatim.openstreetmap.org/images/mapicons/poi_place_village.p.20.png'}\n"
          ],
          "name": "stdout"
        }
      ]
    },
    {
      "cell_type": "code",
      "metadata": {
        "id": "R2POTXoPWlqT",
        "colab_type": "code",
        "outputId": "f92cc578-3d27-43af-997c-fdac0167a37c",
        "colab": {
          "base_uri": "https://localhost:8080/",
          "height": 88
        }
      },
      "source": [
        "location = geolocator.geocode(\"Kormangala\")\n",
        "print(location.address)\n",
        "#National Public School Kormangala, 80 Feet Road, Ejipura, East Zone, Bengaluru, Bangalore South, Bangalore Urban, Karnataka, 560047, India\n",
        "print((location.latitude, location.longitude))\n",
        "#(12.949299400000001, 77.62115258241755)\n",
        "print(location.raw)\n",
        "#{'place_id': 186992634, 'licence': 'Data © OpenStreetMap contributors, ODbL 1.0. https://osm.org/copyright', 'osm_type': 'way', 'osm_id': 441572865, 'boundingbox': ['12.9485454', '12.9500209', '77.6204925', '77.6220101'], 'lat': '12.949299400000001', 'lon': '77.62115258241755', 'display_name': 'National Public School Kormangala, 80 Feet Road, Ejipura, East Zone, Bengaluru, Bangalore South, Bangalore Urban, Karnataka, 560047, India', 'class': 'amenity', 'type': 'school', 'importance': 0.295871082899258, 'icon': 'https://nominatim.openstreetmap.org/images/mapicons/education_school.p.20.png'}"
      ],
      "execution_count": 23,
      "outputs": [
        {
          "output_type": "stream",
          "text": [
            "National Public School Kormangala, 80 Feet Road, Ejipura, South Zone, Bengaluru, Bangalore South, Bangalore Urban, Karnataka, 560047, India\n",
            "(12.949299400000001, 77.62115258241755)\n",
            "{'place_id': 186992634, 'licence': 'Data © OpenStreetMap contributors, ODbL 1.0. https://osm.org/copyright', 'osm_type': 'way', 'osm_id': 441572865, 'boundingbox': ['12.9485454', '12.9500209', '77.6204925', '77.6220101'], 'lat': '12.949299400000001', 'lon': '77.62115258241755', 'display_name': 'National Public School Kormangala, 80 Feet Road, Ejipura, South Zone, Bengaluru, Bangalore South, Bangalore Urban, Karnataka, 560047, India', 'class': 'amenity', 'type': 'school', 'importance': 0.295871082899258, 'icon': 'https://nominatim.openstreetmap.org/images/mapicons/education_school.p.20.png'}\n"
          ],
          "name": "stdout"
        }
      ]
    },
    {
      "cell_type": "code",
      "metadata": {
        "colab_type": "code",
        "id": "EnCCYcAJVQlY",
        "outputId": "99e7cdc5-804d-4613-848a-31e13c2931c6",
        "colab": {
          "base_uri": "https://localhost:8080/",
          "height": 88
        }
      },
      "source": [
        "location = geolocator.geocode(\"Teachers Colony\")\n",
        "print(location.address)\n",
        "#Teachers Colony, Zone 13 Adyar, சென்னை - Chennai, Chennai district, Tamil Nadu, 600041, India\n",
        "print((location.latitude, location.longitude))\n",
        "#(12.9833689, 80.2661849)\n",
        "print(location.raw)\n",
        "#{'place_id': 1477457, 'licence': 'Data © OpenStreetMap contributors, ODbL 1.0. https://osm.org/copyright', 'osm_type': 'node', 'osm_id': 334596004, 'boundingbox': ['12.9733689', '12.9933689', '80.2561849', '80.2761849'], 'lat': '12.9833689', 'lon': '80.2661849', 'display_name': 'Teachers Colony, Zone 13 Adyar, சென்னை - Chennai, Chennai district, Tamil Nadu, 600041, India', 'class': 'place', 'type': 'locality', 'importance': 0.45, 'icon': 'https://nominatim.openstreetmap.org/images/mapicons/poi_place_village.p.20.png'}"
      ],
      "execution_count": 24,
      "outputs": [
        {
          "output_type": "stream",
          "text": [
            "Teachers Colony, Zone 13 Adyar, சென்னை - Chennai, Chennai district, Tamil Nadu, 600041, India\n",
            "(12.9833689, 80.2661849)\n",
            "{'place_id': 1477457, 'licence': 'Data © OpenStreetMap contributors, ODbL 1.0. https://osm.org/copyright', 'osm_type': 'node', 'osm_id': 334596004, 'boundingbox': ['12.9733689', '12.9933689', '80.2561849', '80.2761849'], 'lat': '12.9833689', 'lon': '80.2661849', 'display_name': 'Teachers Colony, Zone 13 Adyar, சென்னை - Chennai, Chennai district, Tamil Nadu, 600041, India', 'class': 'place', 'type': 'locality', 'importance': 0.45, 'icon': 'https://nominatim.openstreetmap.org/images/mapicons/poi_place_village.p.20.png'}\n"
          ],
          "name": "stdout"
        }
      ]
    },
    {
      "cell_type": "code",
      "metadata": {
        "id": "DgPW3V0jVqau",
        "colab_type": "code",
        "outputId": "e233e210-8386-402c-d7f2-0833b0b9f3b0",
        "colab": {
          "base_uri": "https://localhost:8080/",
          "height": 88
        }
      },
      "source": [
        "location = geolocator.geocode(\"Teachers Colony Bangalore\")\n",
        "print(location.address)\n",
        "#Teachers Colony, Jakkasandra, South Zone, Bengaluru, Bangalore South, Bangalore Urban, Karnataka, India\n",
        "print((location.latitude, location.longitude))\n",
        "#(12.9188265, 77.6341185)\n",
        "print(location.raw)\n",
        "#{'place_id': 161401945, 'licence': 'Data © OpenStreetMap contributors, ODbL 1.0. https://osm.org/copyright', 'osm_type': 'way', 'osm_id': 313831950, 'boundingbox': ['12.9161436', '12.922023', '77.6282447', '77.6384706'], 'lat': '12.9188265', 'lon': '77.6341185', 'display_name': 'Teachers Colony, Jakkasandra, South Zone, Bengaluru, Bangalore South, Bangalore Urban, Karnataka, India', 'class': 'place', 'type': 'neighbourhood', 'importance': 0.5}"
      ],
      "execution_count": 25,
      "outputs": [
        {
          "output_type": "stream",
          "text": [
            "Teachers Colony, Jakkasandra, South Zone, Bengaluru, Bangalore South, Bangalore Urban, Karnataka, India\n",
            "(12.9188265, 77.6341185)\n",
            "{'place_id': 161401945, 'licence': 'Data © OpenStreetMap contributors, ODbL 1.0. https://osm.org/copyright', 'osm_type': 'way', 'osm_id': 313831950, 'boundingbox': ['12.9161436', '12.922023', '77.6282447', '77.6384706'], 'lat': '12.9188265', 'lon': '77.6341185', 'display_name': 'Teachers Colony, Jakkasandra, South Zone, Bengaluru, Bangalore South, Bangalore Urban, Karnataka, India', 'class': 'place', 'type': 'neighbourhood', 'importance': 0.5}\n"
          ],
          "name": "stdout"
        }
      ]
    },
    {
      "cell_type": "code",
      "metadata": {
        "id": "yUVytgjTRBdQ",
        "colab_type": "code",
        "outputId": "33ac0aaa-c276-4e81-85c8-7e4d7913cd80",
        "colab": {
          "base_uri": "https://localhost:8080/",
          "height": 88
        }
      },
      "source": [
        "location = geolocator.geocode(\"Electronic City Bangalore\")\n",
        "print(location.address)\n",
        "#Bengaluru, Bangalore North, Bangalore Urban, Karnataka, India\n",
        "print((location.latitude, location.longitude))\n",
        "#(12.9791198, 77.5912997)\n",
        "print(location.raw)\n",
        "#{'place_id': 236282039, 'licence': 'Data © OpenStreetMap contributors, ODbL 1.0. https://osm.org/copyright', 'osm_type': 'relation', 'osm_id': 7902476, 'boundingbox': ['12.8340125', '13.1436649', '77.4601025', '77.7840515'], 'lat': '12.9791198', 'lon': '77.5912997', 'display_name': 'Bengaluru, Bangalore North, Bangalore Urban, Karnataka, India', 'class': 'boundary', 'type': 'administrative', 'importance': 0.7094348238975636, 'icon': 'https://nominatim.openstreetmap.org/images/mapicons/poi_boundary_administrative.p.20.png'}"
      ],
      "execution_count": 26,
      "outputs": [
        {
          "output_type": "stream",
          "text": [
            "Bengaluru, Bangalore North, Bangalore Urban, Karnataka, India\n",
            "(12.9791198, 77.5912997)\n",
            "{'place_id': 236282039, 'licence': 'Data © OpenStreetMap contributors, ODbL 1.0. https://osm.org/copyright', 'osm_type': 'relation', 'osm_id': 7902476, 'boundingbox': ['12.8340125', '13.1436649', '77.4601025', '77.7840515'], 'lat': '12.9791198', 'lon': '77.5912997', 'display_name': 'Bengaluru, Bangalore North, Bangalore Urban, Karnataka, India', 'class': 'boundary', 'type': 'administrative', 'importance': 0.7094348238975636, 'icon': 'https://nominatim.openstreetmap.org/images/mapicons/poi_boundary_administrative.p.20.png'}\n"
          ],
          "name": "stdout"
        }
      ]
    },
    {
      "cell_type": "markdown",
      "metadata": {
        "id": "qPz28h6kJTqP",
        "colab_type": "text"
      },
      "source": [
        "##Google Place API\n",
        "\n",
        "This I left on purpose as I wanted to continue with the Open Street Maps, we can easily replace the text with Google Maps API"
      ]
    },
    {
      "cell_type": "code",
      "metadata": {
        "id": "4W3_5yuzSKKU",
        "colab_type": "code",
        "outputId": "efc864e9-c596-4113-fc1c-01c3c8345039",
        "colab": {
          "base_uri": "https://localhost:8080/",
          "height": 54
        }
      },
      "source": [
        "#Google API is skipped\n",
        "'''\n",
        "def search(cls, query):\n",
        "        try:\n",
        "            location = cls.objects.get(text=query.lower())\n",
        "            return location.latitude, location.longitude, location.place_id\n",
        "        except cls.DoesNotExist:\n",
        "            url = \"https://maps.googleapis.com/maps/api/geocode/json\"\n",
        "            params = {\n",
        "                \"address\": query,\n",
        "                \"region\": \"IN\",\n",
        "                \"key\": settings.GOOGLE_PLACE_API_KEY\n",
        "            }\n",
        "            response = requests.get(url=url, params=params)\n",
        "            data = response.json()\n",
        "            if data[\"status\"] != \"OK\":\n",
        "                raise GooglePlaceAPIError({\"message\": response.json()})\n",
        "            place_id, lat, lng = cls._get_location_details(data[\"results\"][0])\n",
        "            cls.objects.create(text=query, place_id=place_id, latitude=lat, longitude=lng)\n",
        "            return lat, lng, place_id\n",
        "            \n",
        "'''"
      ],
      "execution_count": 27,
      "outputs": [
        {
          "output_type": "execute_result",
          "data": {
            "text/plain": [
              "'\\ndef search(cls, query):\\n        try:\\n            location = cls.objects.get(text=query.lower())\\n            return location.latitude, location.longitude, location.place_id\\n        except cls.DoesNotExist:\\n            url = \"https://maps.googleapis.com/maps/api/geocode/json\"\\n            params = {\\n                \"address\": query,\\n                \"region\": \"IN\",\\n                \"key\": settings.GOOGLE_PLACE_API_KEY\\n            }\\n            response = requests.get(url=url, params=params)\\n            data = response.json()\\n            if data[\"status\"] != \"OK\":\\n                raise GooglePlaceAPIError({\"message\": response.json()})\\n            place_id, lat, lng = cls._get_location_details(data[\"results\"][0])\\n            cls.objects.create(text=query, place_id=place_id, latitude=lat, longitude=lng)\\n            return lat, lng, place_id\\n            \\n'"
            ]
          },
          "metadata": {
            "tags": []
          },
          "execution_count": 27
        }
      ]
    }
  ]
}