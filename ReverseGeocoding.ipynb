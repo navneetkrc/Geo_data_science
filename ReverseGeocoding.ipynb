{
  "nbformat": 4,
  "nbformat_minor": 0,
  "metadata": {
    "colab": {
      "name": "ReverseGeocoding.ipynb",
      "provenance": [],
      "include_colab_link": true
    },
    "kernelspec": {
      "name": "python3",
      "display_name": "Python 3"
    },
    "accelerator": "GPU"
  },
  "cells": [
    {
      "cell_type": "markdown",
      "metadata": {
        "id": "view-in-github",
        "colab_type": "text"
      },
      "source": [
        "<a href=\"https://colab.research.google.com/github/navneetkrc/Geo_data_science/blob/master/ReverseGeocoding.ipynb\" target=\"_parent\"><img src=\"https://colab.research.google.com/assets/colab-badge.svg\" alt=\"Open In Colab\"/></a>"
      ]
    },
    {
      "cell_type": "markdown",
      "metadata": {
        "id": "tmSj50WEeVmj",
        "colab_type": "text"
      },
      "source": [
        "Based on this [Blog](https://towardsdatascience.com/reverse-geocoding-in-python-a915acf29eb6). "
      ]
    },
    {
      "cell_type": "code",
      "metadata": {
        "id": "Vit7f4eNQ2vh",
        "colab_type": "code",
        "colab": {}
      },
      "source": [
        "# Install GDAL and Geopandas\n",
        "!apt install gdal-bin python-gdal python3-gdal --quiet\n",
        "!apt install python3-rtree --quiet\n",
        "!pip install git+git://github.com/geopandas/geopandas.git --quiet\n",
        "!pip install descartes --quiet\n",
        "!pip install geopy\n",
        "!pip install plotly_express\n",
        "!pip install ipython-autotime\n"
      ],
      "execution_count": 0,
      "outputs": []
    },
    {
      "cell_type": "markdown",
      "metadata": {
        "id": "TZYYMB-VTP3b",
        "colab_type": "text"
      },
      "source": [
        "* Restart the run time. tqdm does not work with recent python so we downgrade it to get it working"
      ]
    },
    {
      "cell_type": "code",
      "metadata": {
        "id": "RrfRtWRfRVhC",
        "colab_type": "code",
        "colab": {}
      },
      "source": [
        "!pip install tqdm==4.36.0"
      ],
      "execution_count": 0,
      "outputs": []
    },
    {
      "cell_type": "code",
      "metadata": {
        "id": "bEm0g-OFT3CB",
        "colab_type": "code",
        "colab": {}
      },
      "source": [
        "%load_ext autotime\n",
        "import pandas as pd\n",
        "\n",
        "import geopandas as gpd\n",
        "import geopy\n",
        "from geopy.geocoders import Nominatim\n",
        "from geopy.extra.rate_limiter import RateLimiter\n",
        "\n",
        "import matplotlib.pyplot as plt\n",
        "import plotly_express as px\n",
        "import tqdm\n",
        "from tqdm import tqdm\n",
        "from tqdm._tqdm_notebook import tqdm_notebook"
      ],
      "execution_count": 0,
      "outputs": []
    },
    {
      "cell_type": "markdown",
      "metadata": {
        "id": "Zb5i7OkkJ_p8",
        "colab_type": "text"
      },
      "source": [
        "## Reverse Geocoding Single Example"
      ]
    },
    {
      "cell_type": "code",
      "metadata": {
        "id": "Tp8JDwBIUrHl",
        "colab_type": "code",
        "outputId": "af5132c5-92c8-499e-f417-15e4db7542c2",
        "colab": {
          "base_uri": "https://localhost:8080/",
          "height": 34
        }
      },
      "source": [
        "locator = Nominatim(user_agent=\"myGeocoder\")\n",
        "coordinates = \"53.480837, -2.244914\"\n",
        "location = locator.reverse(coordinates)"
      ],
      "execution_count": 2,
      "outputs": [
        {
          "output_type": "stream",
          "text": [
            "time: 69 ms\n"
          ],
          "name": "stdout"
        }
      ]
    },
    {
      "cell_type": "code",
      "metadata": {
        "id": "B0tHbXBCVX12",
        "colab_type": "code",
        "outputId": "6d8adaa1-c999-4639-aff1-5dbb52c2a8e2",
        "colab": {
          "base_uri": "https://localhost:8080/",
          "height": 360
        }
      },
      "source": [
        "location.raw"
      ],
      "execution_count": 3,
      "outputs": [
        {
          "output_type": "execute_result",
          "data": {
            "text/plain": [
              "{'address': {'building': 'Eagle Insurance Buildings',\n",
              "  'city': 'Manchester',\n",
              "  'country': 'United Kingdom',\n",
              "  'country_code': 'gb',\n",
              "  'county': 'Greater Manchester',\n",
              "  'house_number': '68',\n",
              "  'postcode': 'M2 4JG',\n",
              "  'road': 'Cross Street',\n",
              "  'state': 'England',\n",
              "  'state_district': 'North West England',\n",
              "  'suburb': 'City Centre'},\n",
              " 'boundingbox': ['53.480856', '53.4810634', '-2.2451761', '-2.2449576'],\n",
              " 'display_name': 'Eagle Insurance Buildings, 68, Cross Street, City Centre, Manchester, Greater Manchester, North West England, England, M2 4JG, United Kingdom',\n",
              " 'lat': '53.4809597',\n",
              " 'licence': 'Data © OpenStreetMap contributors, ODbL 1.0. https://osm.org/copyright',\n",
              " 'lon': '-2.2450668274629235',\n",
              " 'osm_id': 37139875,\n",
              " 'osm_type': 'way',\n",
              " 'place_id': 96393663}"
            ]
          },
          "metadata": {
            "tags": []
          },
          "execution_count": 3
        },
        {
          "output_type": "stream",
          "text": [
            "time: 9.51 ms\n"
          ],
          "name": "stdout"
        }
      ]
    },
    {
      "cell_type": "code",
      "metadata": {
        "id": "bsulW2raUNEE",
        "colab_type": "code",
        "outputId": "c0f2ae70-0331-4682-8fbc-af18fda9c9b6",
        "colab": {
          "base_uri": "https://localhost:8080/",
          "height": 51
        }
      },
      "source": [
        "print(location.address)"
      ],
      "execution_count": 4,
      "outputs": [
        {
          "output_type": "stream",
          "text": [
            "Eagle Insurance Buildings, 68, Cross Street, City Centre, Manchester, Greater Manchester, North West England, England, M2 4JG, United Kingdom\n",
            "time: 3 ms\n"
          ],
          "name": "stdout"
        }
      ]
    },
    {
      "cell_type": "code",
      "metadata": {
        "id": "3_WvQekPJMHj",
        "colab_type": "code",
        "outputId": "5ba4086c-9397-4201-c5a8-5f5618ea78c1",
        "colab": {
          "base_uri": "https://localhost:8080/",
          "height": 54
        }
      },
      "source": [
        "location.raw[\"display_name\"]"
      ],
      "execution_count": 5,
      "outputs": [
        {
          "output_type": "execute_result",
          "data": {
            "text/plain": [
              "'Eagle Insurance Buildings, 68, Cross Street, City Centre, Manchester, Greater Manchester, North West England, England, M2 4JG, United Kingdom'"
            ]
          },
          "metadata": {
            "tags": []
          },
          "execution_count": 5
        },
        {
          "output_type": "stream",
          "text": [
            "time: 4.11 ms\n"
          ],
          "name": "stdout"
        }
      ]
    },
    {
      "cell_type": "markdown",
      "metadata": {
        "id": "11bHC4dDJ8wn",
        "colab_type": "text"
      },
      "source": [
        "## Reverse Geocoding with Pandas"
      ]
    },
    {
      "cell_type": "code",
      "metadata": {
        "id": "UGpn28yeWOS8",
        "colab_type": "code",
        "outputId": "11c29f80-2f5a-499c-b07c-ad224ad16057",
        "colab": {
          "base_uri": "https://localhost:8080/",
          "height": 221
        }
      },
      "source": [
        "url = \"https://www.dropbox.com/s/15gisj8hx218rn1/street-pole-sample.csv?dl=1\"\n",
        "cols = [\"X\", \"Y\", \"POLE_NUM\",\"TYPE\",\"HEIGHT\",\"POLE_DATE\",\"OWNER\"]\n",
        "df = pd.read_csv(url, usecols=cols)\n",
        "df.head()"
      ],
      "execution_count": 6,
      "outputs": [
        {
          "output_type": "execute_result",
          "data": {
            "text/html": [
              "<div>\n",
              "<style scoped>\n",
              "    .dataframe tbody tr th:only-of-type {\n",
              "        vertical-align: middle;\n",
              "    }\n",
              "\n",
              "    .dataframe tbody tr th {\n",
              "        vertical-align: top;\n",
              "    }\n",
              "\n",
              "    .dataframe thead th {\n",
              "        text-align: right;\n",
              "    }\n",
              "</style>\n",
              "<table border=\"1\" class=\"dataframe\">\n",
              "  <thead>\n",
              "    <tr style=\"text-align: right;\">\n",
              "      <th></th>\n",
              "      <th>X</th>\n",
              "      <th>Y</th>\n",
              "      <th>POLE_NUM</th>\n",
              "      <th>TYPE</th>\n",
              "      <th>HEIGHT</th>\n",
              "      <th>POLE_DATE</th>\n",
              "      <th>OWNER</th>\n",
              "    </tr>\n",
              "  </thead>\n",
              "  <tbody>\n",
              "    <tr>\n",
              "      <th>0</th>\n",
              "      <td>-75.170097</td>\n",
              "      <td>39.942766</td>\n",
              "      <td>214423</td>\n",
              "      <td>WP</td>\n",
              "      <td>NaN</td>\n",
              "      <td>1997-06-09T00:00:00.000Z</td>\n",
              "      <td>PECO</td>\n",
              "    </tr>\n",
              "    <tr>\n",
              "      <th>1</th>\n",
              "      <td>-75.166112</td>\n",
              "      <td>39.941477</td>\n",
              "      <td>215645</td>\n",
              "      <td>AAPT</td>\n",
              "      <td>25.0</td>\n",
              "      <td>1997-06-10T00:00:00.000Z</td>\n",
              "      <td>Streets</td>\n",
              "    </tr>\n",
              "    <tr>\n",
              "      <th>2</th>\n",
              "      <td>-75.163483</td>\n",
              "      <td>39.943068</td>\n",
              "      <td>215926</td>\n",
              "      <td>WP</td>\n",
              "      <td>NaN</td>\n",
              "      <td>1997-06-04T00:00:00.000Z</td>\n",
              "      <td>PECO</td>\n",
              "    </tr>\n",
              "    <tr>\n",
              "      <th>3</th>\n",
              "      <td>-75.167727</td>\n",
              "      <td>39.944528</td>\n",
              "      <td>214515</td>\n",
              "      <td>WP</td>\n",
              "      <td>25.0</td>\n",
              "      <td>1997-06-09T00:00:00.000Z</td>\n",
              "      <td>Streets</td>\n",
              "    </tr>\n",
              "    <tr>\n",
              "      <th>4</th>\n",
              "      <td>-75.171863</td>\n",
              "      <td>39.941486</td>\n",
              "      <td>214380</td>\n",
              "      <td>WP</td>\n",
              "      <td>25.0</td>\n",
              "      <td>1997-06-09T00:00:00.000Z</td>\n",
              "      <td>Streets</td>\n",
              "    </tr>\n",
              "  </tbody>\n",
              "</table>\n",
              "</div>"
            ],
            "text/plain": [
              "           X          Y  POLE_NUM  ... HEIGHT                 POLE_DATE    OWNER\n",
              "0 -75.170097  39.942766    214423  ...    NaN  1997-06-09T00:00:00.000Z     PECO\n",
              "1 -75.166112  39.941477    215645  ...   25.0  1997-06-10T00:00:00.000Z  Streets\n",
              "2 -75.163483  39.943068    215926  ...    NaN  1997-06-04T00:00:00.000Z     PECO\n",
              "3 -75.167727  39.944528    214515  ...   25.0  1997-06-09T00:00:00.000Z  Streets\n",
              "4 -75.171863  39.941486    214380  ...   25.0  1997-06-09T00:00:00.000Z  Streets\n",
              "\n",
              "[5 rows x 7 columns]"
            ]
          },
          "metadata": {
            "tags": []
          },
          "execution_count": 6
        },
        {
          "output_type": "stream",
          "text": [
            "time: 1.11 s\n"
          ],
          "name": "stdout"
        }
      ]
    },
    {
      "cell_type": "code",
      "metadata": {
        "id": "rg56c4zxY4yD",
        "colab_type": "code",
        "outputId": "759279e2-adb1-4862-fc6c-95a0396eb968",
        "colab": {
          "base_uri": "https://localhost:8080/",
          "height": 34
        }
      },
      "source": [
        "df.shape"
      ],
      "execution_count": 7,
      "outputs": [
        {
          "output_type": "execute_result",
          "data": {
            "text/plain": [
              "(150, 7)"
            ]
          },
          "metadata": {
            "tags": []
          },
          "execution_count": 7
        },
        {
          "output_type": "stream",
          "text": [
            "time: 3.43 ms\n"
          ],
          "name": "stdout"
        }
      ]
    },
    {
      "cell_type": "code",
      "metadata": {
        "id": "Ix3OdTV7XG0s",
        "colab_type": "code",
        "outputId": "fda733e1-9127-4d96-95dc-9cca4ef393d8",
        "colab": {
          "base_uri": "https://localhost:8080/",
          "height": 559
        }
      },
      "source": [
        "import plotly_express as px\n",
        "px.set_mapbox_access_token(\"pk.eyJ1Ijoic2hha2Fzb20iLCJhIjoiY2plMWg1NGFpMXZ5NjJxbjhlM2ttN3AwbiJ9.RtGYHmreKiyBfHuElgYq_w\")\n",
        "px.scatter_mapbox(df, lat=\"Y\", lon=\"X\",  zoom=15)"
      ],
      "execution_count": 8,
      "outputs": [
        {
          "output_type": "display_data",
          "data": {
            "text/html": [
              "<html>\n",
              "<head><meta charset=\"utf-8\" /></head>\n",
              "<body>\n",
              "    <div>\n",
              "            <script src=\"https://cdnjs.cloudflare.com/ajax/libs/mathjax/2.7.5/MathJax.js?config=TeX-AMS-MML_SVG\"></script><script type=\"text/javascript\">if (window.MathJax) {MathJax.Hub.Config({SVG: {font: \"STIX-Web\"}});}</script>\n",
              "                <script type=\"text/javascript\">window.PlotlyConfig = {MathJaxConfig: 'local'};</script>\n",
              "        <script src=\"https://cdn.plot.ly/plotly-latest.min.js\"></script>    \n",
              "            <div id=\"f4f080a2-c23e-48bf-8268-3cb306054b2f\" class=\"plotly-graph-div\" style=\"height:525px; width:100%;\"></div>\n",
              "            <script type=\"text/javascript\">\n",
              "                \n",
              "                    window.PLOTLYENV=window.PLOTLYENV || {};\n",
              "                    \n",
              "                if (document.getElementById(\"f4f080a2-c23e-48bf-8268-3cb306054b2f\")) {\n",
              "                    Plotly.newPlot(\n",
              "                        'f4f080a2-c23e-48bf-8268-3cb306054b2f',\n",
              "                        [{\"hoverlabel\": {\"namelength\": 0}, \"hovertemplate\": \"Y=%{lat}<br>X=%{lon}\", \"lat\": [39.9427660880249, 39.941477314134396, 39.9430681055253, 39.9445279530865, 39.9414861490123, 39.9458123834736, 39.943734222490704, 39.945715845869714, 39.9445160204005, 39.945235394064795, 39.9421003060787, 39.942009547845295, 39.9425569100695, 39.9441380595844, 39.94655295116471, 39.94471412257421, 39.940722703319295, 39.9418700579681, 39.941432568147505, 39.9412106113779, 39.9455913439411, 39.941631399475796, 39.9453216271484, 39.9415617915161, 39.9441235936333, 39.946176947876, 39.942189112503, 39.9419956069136, 39.941697034536794, 39.9403614874189, 39.9401786675993, 39.9434598756854, 39.9420902248872, 39.9431896154041, 39.945430863797895, 39.9435696723346, 39.9421963890193, 39.943662268512895, 39.945913371615895, 39.9447291290113, 39.9438161372329, 39.9417940701319, 39.943290066897895, 39.94553263735821, 39.9447444628453, 39.9417476047159, 39.9409625683542, 39.944490892950796, 39.9445699506451, 39.9449078909761, 39.946184951901294, 39.9434308808985, 39.945712206653, 39.9444477229531, 39.9448439241796, 39.942462449375604, 39.9454532004975, 39.9409449392005, 39.9430276704463, 39.9426871252342, 39.9445946467228, 39.9448442707899, 39.9459730420916, 39.9417954502535, 39.9419381840676, 39.9446221329751, 39.94400922034461, 39.944719621934, 39.9430064824281, 39.9434539696837, 39.942744448668606, 39.9405701384996, 39.9450187151075, 39.9447011314276, 39.940969813554396, 39.9435733323148, 39.943578661452, 39.9425954727087, 39.941074901031, 39.941227462484996, 39.9457636200776, 39.94139080509761, 39.9412106113779, 39.944340910105204, 39.94132435114361, 39.9444568898077, 39.9460593082689, 39.943956514005606, 39.9433784003814, 39.9444007609688, 39.944550858963204, 39.9434195085844, 39.9436549605938, 39.9465006258679, 39.94420372696821, 39.9419237085647, 39.9434556417064, 39.945290400124996, 39.9435715281132, 39.9443497703493, 39.941824490631795, 39.940791818266895, 39.945297223736794, 39.94289530432339, 39.9432250585981, 39.9461534280688, 39.9422036598655, 39.942816751974895, 39.9410995860245, 39.940997671671795, 39.9435467222009, 39.941635834688, 39.9428415471354, 39.9437762760183, 39.94320229392221, 39.941477314134396, 39.9427679056027, 39.94333297429471, 39.944204491851295, 39.9437465265944, 39.9438374680866, 39.9451722775365, 39.942506945221794, 39.9446070190048, 39.9451249121917, 39.94239500613021, 39.9448046762956, 39.9425423742086, 39.9451310774725, 39.942502098622896, 39.944844454884795, 39.9401415841301, 39.9444844685105, 39.9440896128934, 39.9464876419233, 39.9439442566142, 39.944594781667206, 39.9420869288918, 39.9436836809808, 39.9438175774937, 39.942022801526, 39.941288226953795, 39.9464576660407, 39.9461515358412, 39.9431594600703, 39.944848862498, 39.943748694572704, 39.9463024050705, 39.943661667793606, 39.9461970120384], \"legendgroup\": \"\", \"lon\": [-75.17009743393821, -75.166112027818, -75.1634826347411, -75.16772651013079, -75.17186304554191, -75.16990506491759, -75.1729444762547, -75.17319847814409, -75.171839078194, -75.1702213350259, -75.16763679647809, -75.164444213202, -75.1658872318113, -75.1697176819241, -75.17342006944808, -75.1631265136534, -75.1660158465086, -75.1687239310986, -75.1714761846592, -75.1659134505965, -75.1733352170396, -75.1660811942322, -75.1701957610606, -75.1658314158863, -75.1686945255596, -75.1728366733244, -75.173465109093, -75.1676826974808, -75.16520814264109, -75.16610004474171, -75.16434362402241, -75.1704582159004, -75.16598882295379, -75.1731247936959, -75.1717829606576, -75.1651744705443, -75.1692690160745, -75.167292004049, -75.17057559537159, -75.1654692349308, -75.17432751996729, -75.16521871683041, -75.172469555266, -75.1683484207589, -75.16542226756721, -75.16606607219279, -75.1691382947034, -75.1697197517855, -75.16805763026629, -75.17349136452249, -75.1739246337558, -75.1656987920779, -75.17334401437179, -75.16698384802551, -75.16633814103079, -75.1724048958403, -75.1690935922351, -75.1675915045988, -75.1700420121554, -75.165187430855, -75.1726887192804, -75.1670642191653, -75.17236717743879, -75.1661079591894, -75.17351922103, -75.1708119285717, -75.1653039447095, -75.16924544189791, -75.1677789731532, -75.1642446920835, -75.1738445501845, -75.1660475139983, -75.1684714180401, -75.1742903501634, -75.168988249338, -75.1656639391241, -75.16892305795609, -75.169509856798, -75.1686087455176, -75.16676819629599, -75.1707266782441, -75.1702620311824, -75.1659134505965, -75.1713432961324, -75.164592019347, -75.1734718925075, -75.17309357605109, -75.1640964069228, -75.17100452670071, -75.1711059652417, -75.16465537452521, -75.17497140117291, -75.17491063549599, -75.1731366058802, -75.1702631764934, -75.170215934446, -75.1632587093028, -75.1668367472907, -75.1686289732543, -75.1706723492525, -75.16931524998641, -75.1663352128476, -75.170709592618, -75.170069336886, -75.16344008949359, -75.1732184576001, -75.17488100140841, -75.1662974724285, -75.1678505385142, -75.1659527660201, -75.1649819135331, -75.1724210857418, -75.1737944865256, -75.1705086447194, -75.1693904798238, -75.166112027818, -75.1659139955285, -75.1657185711356, -75.1665908034466, -75.170012044364, -75.1735997406786, -75.16970458289909, -75.1738945843899, -75.16838715401191, -75.1686217008828, -75.167929760098, -75.1699228097545, -75.1656210842932, -75.16847428551429, -75.1675403586672, -75.1746893605221, -75.1641300766696, -75.1725217886565, -75.16517154773909, -75.1730247032437, -75.17357606820579, -75.1734077919442, -75.1704082558376, -75.16533266852909, -75.1707042066434, -75.16516185704529, -75.1661548956461, -75.1731516153292, -75.17371130092859, -75.165487010455, -75.170467929968, -75.1737663401247, -75.1715777329037, -75.1659299189492, -75.1739973221575], \"marker\": {\"color\": \"#636efa\"}, \"mode\": \"markers\", \"name\": \"\", \"showlegend\": false, \"subplot\": \"mapbox\", \"type\": \"scattermapbox\"}],\n",
              "                        {\"legend\": {\"tracegroupgap\": 0}, \"mapbox\": {\"accesstoken\": \"pk.eyJ1Ijoic2hha2Fzb20iLCJhIjoiY2plMWg1NGFpMXZ5NjJxbjhlM2ttN3AwbiJ9.RtGYHmreKiyBfHuElgYq_w\", \"center\": {\"lat\": 39.94350971163247, \"lon\": -75.16915013406168}, \"domain\": {\"x\": [0.0, 1.0], \"y\": [0.0, 1.0]}, \"zoom\": 15}, \"margin\": {\"t\": 60}, \"template\": {\"data\": {\"bar\": [{\"error_x\": {\"color\": \"#2a3f5f\"}, \"error_y\": {\"color\": \"#2a3f5f\"}, \"marker\": {\"line\": {\"color\": \"#E5ECF6\", \"width\": 0.5}}, \"type\": \"bar\"}], \"barpolar\": [{\"marker\": {\"line\": {\"color\": \"#E5ECF6\", \"width\": 0.5}}, \"type\": \"barpolar\"}], \"carpet\": [{\"aaxis\": {\"endlinecolor\": \"#2a3f5f\", \"gridcolor\": \"white\", \"linecolor\": \"white\", \"minorgridcolor\": \"white\", \"startlinecolor\": \"#2a3f5f\"}, \"baxis\": {\"endlinecolor\": \"#2a3f5f\", \"gridcolor\": \"white\", \"linecolor\": \"white\", \"minorgridcolor\": \"white\", \"startlinecolor\": \"#2a3f5f\"}, \"type\": \"carpet\"}], \"choropleth\": [{\"colorbar\": {\"outlinewidth\": 0, \"ticks\": \"\"}, \"type\": \"choropleth\"}], \"contour\": [{\"colorbar\": {\"outlinewidth\": 0, \"ticks\": \"\"}, \"colorscale\": [[0.0, \"#0d0887\"], [0.1111111111111111, \"#46039f\"], [0.2222222222222222, \"#7201a8\"], [0.3333333333333333, \"#9c179e\"], [0.4444444444444444, \"#bd3786\"], [0.5555555555555556, \"#d8576b\"], [0.6666666666666666, \"#ed7953\"], [0.7777777777777778, \"#fb9f3a\"], [0.8888888888888888, \"#fdca26\"], [1.0, \"#f0f921\"]], \"type\": \"contour\"}], \"contourcarpet\": [{\"colorbar\": {\"outlinewidth\": 0, \"ticks\": \"\"}, \"type\": \"contourcarpet\"}], \"heatmap\": [{\"colorbar\": {\"outlinewidth\": 0, \"ticks\": \"\"}, \"colorscale\": [[0.0, \"#0d0887\"], [0.1111111111111111, \"#46039f\"], [0.2222222222222222, \"#7201a8\"], [0.3333333333333333, \"#9c179e\"], [0.4444444444444444, \"#bd3786\"], [0.5555555555555556, \"#d8576b\"], [0.6666666666666666, \"#ed7953\"], [0.7777777777777778, \"#fb9f3a\"], [0.8888888888888888, \"#fdca26\"], [1.0, \"#f0f921\"]], \"type\": \"heatmap\"}], \"heatmapgl\": [{\"colorbar\": {\"outlinewidth\": 0, \"ticks\": \"\"}, \"colorscale\": [[0.0, \"#0d0887\"], [0.1111111111111111, \"#46039f\"], [0.2222222222222222, \"#7201a8\"], [0.3333333333333333, \"#9c179e\"], [0.4444444444444444, \"#bd3786\"], [0.5555555555555556, \"#d8576b\"], [0.6666666666666666, \"#ed7953\"], [0.7777777777777778, \"#fb9f3a\"], [0.8888888888888888, \"#fdca26\"], [1.0, \"#f0f921\"]], \"type\": \"heatmapgl\"}], \"histogram\": [{\"marker\": {\"colorbar\": {\"outlinewidth\": 0, \"ticks\": \"\"}}, \"type\": \"histogram\"}], \"histogram2d\": [{\"colorbar\": {\"outlinewidth\": 0, \"ticks\": \"\"}, \"colorscale\": [[0.0, \"#0d0887\"], [0.1111111111111111, \"#46039f\"], [0.2222222222222222, \"#7201a8\"], [0.3333333333333333, \"#9c179e\"], [0.4444444444444444, \"#bd3786\"], [0.5555555555555556, \"#d8576b\"], [0.6666666666666666, \"#ed7953\"], [0.7777777777777778, \"#fb9f3a\"], [0.8888888888888888, \"#fdca26\"], [1.0, \"#f0f921\"]], \"type\": \"histogram2d\"}], \"histogram2dcontour\": [{\"colorbar\": {\"outlinewidth\": 0, \"ticks\": \"\"}, \"colorscale\": [[0.0, \"#0d0887\"], [0.1111111111111111, \"#46039f\"], [0.2222222222222222, \"#7201a8\"], [0.3333333333333333, \"#9c179e\"], [0.4444444444444444, \"#bd3786\"], [0.5555555555555556, \"#d8576b\"], [0.6666666666666666, \"#ed7953\"], [0.7777777777777778, \"#fb9f3a\"], [0.8888888888888888, \"#fdca26\"], [1.0, \"#f0f921\"]], \"type\": \"histogram2dcontour\"}], \"mesh3d\": [{\"colorbar\": {\"outlinewidth\": 0, \"ticks\": \"\"}, \"type\": \"mesh3d\"}], \"parcoords\": [{\"line\": {\"colorbar\": {\"outlinewidth\": 0, \"ticks\": \"\"}}, \"type\": \"parcoords\"}], \"pie\": [{\"automargin\": true, \"type\": \"pie\"}], \"scatter\": [{\"marker\": {\"colorbar\": {\"outlinewidth\": 0, \"ticks\": \"\"}}, \"type\": \"scatter\"}], \"scatter3d\": [{\"line\": {\"colorbar\": {\"outlinewidth\": 0, \"ticks\": \"\"}}, \"marker\": {\"colorbar\": {\"outlinewidth\": 0, \"ticks\": \"\"}}, \"type\": \"scatter3d\"}], \"scattercarpet\": [{\"marker\": {\"colorbar\": {\"outlinewidth\": 0, \"ticks\": \"\"}}, \"type\": \"scattercarpet\"}], \"scattergeo\": [{\"marker\": {\"colorbar\": {\"outlinewidth\": 0, \"ticks\": \"\"}}, \"type\": \"scattergeo\"}], \"scattergl\": [{\"marker\": {\"colorbar\": {\"outlinewidth\": 0, \"ticks\": \"\"}}, \"type\": \"scattergl\"}], \"scattermapbox\": [{\"marker\": {\"colorbar\": {\"outlinewidth\": 0, \"ticks\": \"\"}}, \"type\": \"scattermapbox\"}], \"scatterpolar\": [{\"marker\": {\"colorbar\": {\"outlinewidth\": 0, \"ticks\": \"\"}}, \"type\": \"scatterpolar\"}], \"scatterpolargl\": [{\"marker\": {\"colorbar\": {\"outlinewidth\": 0, \"ticks\": \"\"}}, \"type\": \"scatterpolargl\"}], \"scatterternary\": [{\"marker\": {\"colorbar\": {\"outlinewidth\": 0, \"ticks\": \"\"}}, \"type\": \"scatterternary\"}], \"surface\": [{\"colorbar\": {\"outlinewidth\": 0, \"ticks\": \"\"}, \"colorscale\": [[0.0, \"#0d0887\"], [0.1111111111111111, \"#46039f\"], [0.2222222222222222, \"#7201a8\"], [0.3333333333333333, \"#9c179e\"], [0.4444444444444444, \"#bd3786\"], [0.5555555555555556, \"#d8576b\"], [0.6666666666666666, \"#ed7953\"], [0.7777777777777778, \"#fb9f3a\"], [0.8888888888888888, \"#fdca26\"], [1.0, \"#f0f921\"]], \"type\": \"surface\"}], \"table\": [{\"cells\": {\"fill\": {\"color\": \"#EBF0F8\"}, \"line\": {\"color\": \"white\"}}, \"header\": {\"fill\": {\"color\": \"#C8D4E3\"}, \"line\": {\"color\": \"white\"}}, \"type\": \"table\"}]}, \"layout\": {\"annotationdefaults\": {\"arrowcolor\": \"#2a3f5f\", \"arrowhead\": 0, \"arrowwidth\": 1}, \"coloraxis\": {\"colorbar\": {\"outlinewidth\": 0, \"ticks\": \"\"}}, \"colorscale\": {\"diverging\": [[0, \"#8e0152\"], [0.1, \"#c51b7d\"], [0.2, \"#de77ae\"], [0.3, \"#f1b6da\"], [0.4, \"#fde0ef\"], [0.5, \"#f7f7f7\"], [0.6, \"#e6f5d0\"], [0.7, \"#b8e186\"], [0.8, \"#7fbc41\"], [0.9, \"#4d9221\"], [1, \"#276419\"]], \"sequential\": [[0.0, \"#0d0887\"], [0.1111111111111111, \"#46039f\"], [0.2222222222222222, \"#7201a8\"], [0.3333333333333333, \"#9c179e\"], [0.4444444444444444, \"#bd3786\"], [0.5555555555555556, \"#d8576b\"], [0.6666666666666666, \"#ed7953\"], [0.7777777777777778, \"#fb9f3a\"], [0.8888888888888888, \"#fdca26\"], [1.0, \"#f0f921\"]], \"sequentialminus\": [[0.0, \"#0d0887\"], [0.1111111111111111, \"#46039f\"], [0.2222222222222222, \"#7201a8\"], [0.3333333333333333, \"#9c179e\"], [0.4444444444444444, \"#bd3786\"], [0.5555555555555556, \"#d8576b\"], [0.6666666666666666, \"#ed7953\"], [0.7777777777777778, \"#fb9f3a\"], [0.8888888888888888, \"#fdca26\"], [1.0, \"#f0f921\"]]}, \"colorway\": [\"#636efa\", \"#EF553B\", \"#00cc96\", \"#ab63fa\", \"#FFA15A\", \"#19d3f3\", \"#FF6692\", \"#B6E880\", \"#FF97FF\", \"#FECB52\"], \"font\": {\"color\": \"#2a3f5f\"}, \"geo\": {\"bgcolor\": \"white\", \"lakecolor\": \"white\", \"landcolor\": \"#E5ECF6\", \"showlakes\": true, \"showland\": true, \"subunitcolor\": \"white\"}, \"hoverlabel\": {\"align\": \"left\"}, \"hovermode\": \"closest\", \"mapbox\": {\"style\": \"light\"}, \"paper_bgcolor\": \"white\", \"plot_bgcolor\": \"#E5ECF6\", \"polar\": {\"angularaxis\": {\"gridcolor\": \"white\", \"linecolor\": \"white\", \"ticks\": \"\"}, \"bgcolor\": \"#E5ECF6\", \"radialaxis\": {\"gridcolor\": \"white\", \"linecolor\": \"white\", \"ticks\": \"\"}}, \"scene\": {\"xaxis\": {\"backgroundcolor\": \"#E5ECF6\", \"gridcolor\": \"white\", \"gridwidth\": 2, \"linecolor\": \"white\", \"showbackground\": true, \"ticks\": \"\", \"zerolinecolor\": \"white\"}, \"yaxis\": {\"backgroundcolor\": \"#E5ECF6\", \"gridcolor\": \"white\", \"gridwidth\": 2, \"linecolor\": \"white\", \"showbackground\": true, \"ticks\": \"\", \"zerolinecolor\": \"white\"}, \"zaxis\": {\"backgroundcolor\": \"#E5ECF6\", \"gridcolor\": \"white\", \"gridwidth\": 2, \"linecolor\": \"white\", \"showbackground\": true, \"ticks\": \"\", \"zerolinecolor\": \"white\"}}, \"shapedefaults\": {\"line\": {\"color\": \"#2a3f5f\"}}, \"ternary\": {\"aaxis\": {\"gridcolor\": \"white\", \"linecolor\": \"white\", \"ticks\": \"\"}, \"baxis\": {\"gridcolor\": \"white\", \"linecolor\": \"white\", \"ticks\": \"\"}, \"bgcolor\": \"#E5ECF6\", \"caxis\": {\"gridcolor\": \"white\", \"linecolor\": \"white\", \"ticks\": \"\"}}, \"title\": {\"x\": 0.05}, \"xaxis\": {\"automargin\": true, \"gridcolor\": \"white\", \"linecolor\": \"white\", \"ticks\": \"\", \"title\": {\"standoff\": 15}, \"zerolinecolor\": \"white\", \"zerolinewidth\": 2}, \"yaxis\": {\"automargin\": true, \"gridcolor\": \"white\", \"linecolor\": \"white\", \"ticks\": \"\", \"title\": {\"standoff\": 15}, \"zerolinecolor\": \"white\", \"zerolinewidth\": 2}}}},\n",
              "                        {\"responsive\": true}\n",
              "                    ).then(function(){\n",
              "                            \n",
              "var gd = document.getElementById('f4f080a2-c23e-48bf-8268-3cb306054b2f');\n",
              "var x = new MutationObserver(function (mutations, observer) {{\n",
              "        var display = window.getComputedStyle(gd).display;\n",
              "        if (!display || display === 'none') {{\n",
              "            console.log([gd, 'removed!']);\n",
              "            Plotly.purge(gd);\n",
              "            observer.disconnect();\n",
              "        }}\n",
              "}});\n",
              "\n",
              "// Listen for the removal of the full notebook cells\n",
              "var notebookContainer = gd.closest('#notebook-container');\n",
              "if (notebookContainer) {{\n",
              "    x.observe(notebookContainer, {childList: true});\n",
              "}}\n",
              "\n",
              "// Listen for the clearing of the current output cell\n",
              "var outputEl = gd.closest('.output');\n",
              "if (outputEl) {{\n",
              "    x.observe(outputEl, {childList: true});\n",
              "}}\n",
              "\n",
              "                        })\n",
              "                };\n",
              "                \n",
              "            </script>\n",
              "        </div>\n",
              "</body>\n",
              "</html>"
            ]
          },
          "metadata": {
            "tags": []
          }
        },
        {
          "output_type": "stream",
          "text": [
            "time: 663 ms\n"
          ],
          "name": "stdout"
        }
      ]
    },
    {
      "cell_type": "code",
      "metadata": {
        "id": "YzeWclGjEL_5",
        "colab_type": "code",
        "outputId": "db39e846-2a1a-4044-ec38-bac22f7b83aa",
        "colab": {
          "base_uri": "https://localhost:8080/",
          "height": 221
        }
      },
      "source": [
        "df[\"geom\"] =  df[\"Y\"].map(str)  + ',' + df['X'].map(str)\n",
        "df.head()"
      ],
      "execution_count": 9,
      "outputs": [
        {
          "output_type": "execute_result",
          "data": {
            "text/html": [
              "<div>\n",
              "<style scoped>\n",
              "    .dataframe tbody tr th:only-of-type {\n",
              "        vertical-align: middle;\n",
              "    }\n",
              "\n",
              "    .dataframe tbody tr th {\n",
              "        vertical-align: top;\n",
              "    }\n",
              "\n",
              "    .dataframe thead th {\n",
              "        text-align: right;\n",
              "    }\n",
              "</style>\n",
              "<table border=\"1\" class=\"dataframe\">\n",
              "  <thead>\n",
              "    <tr style=\"text-align: right;\">\n",
              "      <th></th>\n",
              "      <th>X</th>\n",
              "      <th>Y</th>\n",
              "      <th>POLE_NUM</th>\n",
              "      <th>TYPE</th>\n",
              "      <th>HEIGHT</th>\n",
              "      <th>POLE_DATE</th>\n",
              "      <th>OWNER</th>\n",
              "      <th>geom</th>\n",
              "    </tr>\n",
              "  </thead>\n",
              "  <tbody>\n",
              "    <tr>\n",
              "      <th>0</th>\n",
              "      <td>-75.170097</td>\n",
              "      <td>39.942766</td>\n",
              "      <td>214423</td>\n",
              "      <td>WP</td>\n",
              "      <td>NaN</td>\n",
              "      <td>1997-06-09T00:00:00.000Z</td>\n",
              "      <td>PECO</td>\n",
              "      <td>39.9427660880249,-75.17009743393821</td>\n",
              "    </tr>\n",
              "    <tr>\n",
              "      <th>1</th>\n",
              "      <td>-75.166112</td>\n",
              "      <td>39.941477</td>\n",
              "      <td>215645</td>\n",
              "      <td>AAPT</td>\n",
              "      <td>25.0</td>\n",
              "      <td>1997-06-10T00:00:00.000Z</td>\n",
              "      <td>Streets</td>\n",
              "      <td>39.941477314134396,-75.166112027818</td>\n",
              "    </tr>\n",
              "    <tr>\n",
              "      <th>2</th>\n",
              "      <td>-75.163483</td>\n",
              "      <td>39.943068</td>\n",
              "      <td>215926</td>\n",
              "      <td>WP</td>\n",
              "      <td>NaN</td>\n",
              "      <td>1997-06-04T00:00:00.000Z</td>\n",
              "      <td>PECO</td>\n",
              "      <td>39.9430681055253,-75.1634826347411</td>\n",
              "    </tr>\n",
              "    <tr>\n",
              "      <th>3</th>\n",
              "      <td>-75.167727</td>\n",
              "      <td>39.944528</td>\n",
              "      <td>214515</td>\n",
              "      <td>WP</td>\n",
              "      <td>25.0</td>\n",
              "      <td>1997-06-09T00:00:00.000Z</td>\n",
              "      <td>Streets</td>\n",
              "      <td>39.9445279530865,-75.16772651013079</td>\n",
              "    </tr>\n",
              "    <tr>\n",
              "      <th>4</th>\n",
              "      <td>-75.171863</td>\n",
              "      <td>39.941486</td>\n",
              "      <td>214380</td>\n",
              "      <td>WP</td>\n",
              "      <td>25.0</td>\n",
              "      <td>1997-06-09T00:00:00.000Z</td>\n",
              "      <td>Streets</td>\n",
              "      <td>39.9414861490123,-75.17186304554191</td>\n",
              "    </tr>\n",
              "  </tbody>\n",
              "</table>\n",
              "</div>"
            ],
            "text/plain": [
              "           X          Y  ...    OWNER                                 geom\n",
              "0 -75.170097  39.942766  ...     PECO  39.9427660880249,-75.17009743393821\n",
              "1 -75.166112  39.941477  ...  Streets  39.941477314134396,-75.166112027818\n",
              "2 -75.163483  39.943068  ...     PECO   39.9430681055253,-75.1634826347411\n",
              "3 -75.167727  39.944528  ...  Streets  39.9445279530865,-75.16772651013079\n",
              "4 -75.171863  39.941486  ...  Streets  39.9414861490123,-75.17186304554191\n",
              "\n",
              "[5 rows x 8 columns]"
            ]
          },
          "metadata": {
            "tags": []
          },
          "execution_count": 9
        },
        {
          "output_type": "stream",
          "text": [
            "time: 30.6 ms\n"
          ],
          "name": "stdout"
        }
      ]
    },
    {
      "cell_type": "code",
      "metadata": {
        "id": "Msldmy9BEhF0",
        "colab_type": "code",
        "outputId": "7b009381-22e8-4ba2-9698-f5360d5833e4",
        "colab": {
          "base_uri": "https://localhost:8080/",
          "height": 34
        }
      },
      "source": [
        "df.geom[0]\n",
        "\n"
      ],
      "execution_count": 10,
      "outputs": [
        {
          "output_type": "execute_result",
          "data": {
            "text/plain": [
              "'39.9427660880249,-75.17009743393821'"
            ]
          },
          "metadata": {
            "tags": []
          },
          "execution_count": 10
        },
        {
          "output_type": "stream",
          "text": [
            "time: 3.18 ms\n"
          ],
          "name": "stdout"
        }
      ]
    },
    {
      "cell_type": "code",
      "metadata": {
        "id": "1rxNQfhAD-QT",
        "colab_type": "code",
        "outputId": "97c1fef5-817d-4c04-99fb-c3b09528d2b4",
        "colab": {
          "base_uri": "https://localhost:8080/",
          "height": 34
        }
      },
      "source": [
        "locator = Nominatim(user_agent=\"myGeocoder\", timeout=10)\n",
        "rgeocode = RateLimiter(locator.reverse, min_delay_seconds=0.001)\n",
        "rgeocode"
      ],
      "execution_count": 11,
      "outputs": [
        {
          "output_type": "execute_result",
          "data": {
            "text/plain": [
              "<geopy.extra.rate_limiter.RateLimiter at 0x7fa672218fd0>"
            ]
          },
          "metadata": {
            "tags": []
          },
          "execution_count": 11
        },
        {
          "output_type": "stream",
          "text": [
            "time: 6.54 ms\n"
          ],
          "name": "stdout"
        }
      ]
    },
    {
      "cell_type": "code",
      "metadata": {
        "id": "xJFDeRMVD-TZ",
        "colab_type": "code",
        "colab": {}
      },
      "source": [
        "tqdm.pandas()\n",
        "df['address'] = df['geom'].progress_apply(rgeocode)"
      ],
      "execution_count": 0,
      "outputs": []
    },
    {
      "cell_type": "code",
      "metadata": {
        "id": "MNCZp_HkLy4t",
        "colab_type": "code",
        "outputId": "3175d879-889f-45c7-99e0-bfe7804cddc3",
        "colab": {
          "base_uri": "https://localhost:8080/",
          "height": 221
        }
      },
      "source": [
        "df.head()\n"
      ],
      "execution_count": 13,
      "outputs": [
        {
          "output_type": "execute_result",
          "data": {
            "text/html": [
              "<div>\n",
              "<style scoped>\n",
              "    .dataframe tbody tr th:only-of-type {\n",
              "        vertical-align: middle;\n",
              "    }\n",
              "\n",
              "    .dataframe tbody tr th {\n",
              "        vertical-align: top;\n",
              "    }\n",
              "\n",
              "    .dataframe thead th {\n",
              "        text-align: right;\n",
              "    }\n",
              "</style>\n",
              "<table border=\"1\" class=\"dataframe\">\n",
              "  <thead>\n",
              "    <tr style=\"text-align: right;\">\n",
              "      <th></th>\n",
              "      <th>X</th>\n",
              "      <th>Y</th>\n",
              "      <th>POLE_NUM</th>\n",
              "      <th>TYPE</th>\n",
              "      <th>HEIGHT</th>\n",
              "      <th>POLE_DATE</th>\n",
              "      <th>OWNER</th>\n",
              "      <th>geom</th>\n",
              "      <th>address</th>\n",
              "    </tr>\n",
              "  </thead>\n",
              "  <tbody>\n",
              "    <tr>\n",
              "      <th>0</th>\n",
              "      <td>-75.170097</td>\n",
              "      <td>39.942766</td>\n",
              "      <td>214423</td>\n",
              "      <td>WP</td>\n",
              "      <td>NaN</td>\n",
              "      <td>1997-06-09T00:00:00.000Z</td>\n",
              "      <td>PECO</td>\n",
              "      <td>39.9427660880249,-75.17009743393821</td>\n",
              "      <td>(723, South Chadwick Street, Hawthorne, South ...</td>\n",
              "    </tr>\n",
              "    <tr>\n",
              "      <th>1</th>\n",
              "      <td>-75.166112</td>\n",
              "      <td>39.941477</td>\n",
              "      <td>215645</td>\n",
              "      <td>AAPT</td>\n",
              "      <td>25.0</td>\n",
              "      <td>1997-06-10T00:00:00.000Z</td>\n",
              "      <td>Streets</td>\n",
              "      <td>39.941477314134396,-75.166112027818</td>\n",
              "      <td>(Tindley Temple United Methodist Church, 750, ...</td>\n",
              "    </tr>\n",
              "    <tr>\n",
              "      <th>2</th>\n",
              "      <td>-75.163483</td>\n",
              "      <td>39.943068</td>\n",
              "      <td>215926</td>\n",
              "      <td>WP</td>\n",
              "      <td>NaN</td>\n",
              "      <td>1997-06-04T00:00:00.000Z</td>\n",
              "      <td>PECO</td>\n",
              "      <td>39.9430681055253,-75.1634826347411</td>\n",
              "      <td>(600, South 13th Street, Hawthorne, South Phil...</td>\n",
              "    </tr>\n",
              "    <tr>\n",
              "      <th>3</th>\n",
              "      <td>-75.167727</td>\n",
              "      <td>39.944528</td>\n",
              "      <td>214515</td>\n",
              "      <td>WP</td>\n",
              "      <td>25.0</td>\n",
              "      <td>1997-06-09T00:00:00.000Z</td>\n",
              "      <td>Streets</td>\n",
              "      <td>39.9445279530865,-75.16772651013079</td>\n",
              "      <td>(1538, Naudain Street, Rittenhouse Square, Phi...</td>\n",
              "    </tr>\n",
              "    <tr>\n",
              "      <th>4</th>\n",
              "      <td>-75.171863</td>\n",
              "      <td>39.941486</td>\n",
              "      <td>214380</td>\n",
              "      <td>WP</td>\n",
              "      <td>25.0</td>\n",
              "      <td>1997-06-09T00:00:00.000Z</td>\n",
              "      <td>Streets</td>\n",
              "      <td>39.9414861490123,-75.17186304554191</td>\n",
              "      <td>(Marian Anderson Community Center, Catharine S...</td>\n",
              "    </tr>\n",
              "  </tbody>\n",
              "</table>\n",
              "</div>"
            ],
            "text/plain": [
              "           X  ...                                            address\n",
              "0 -75.170097  ...  (723, South Chadwick Street, Hawthorne, South ...\n",
              "1 -75.166112  ...  (Tindley Temple United Methodist Church, 750, ...\n",
              "2 -75.163483  ...  (600, South 13th Street, Hawthorne, South Phil...\n",
              "3 -75.167727  ...  (1538, Naudain Street, Rittenhouse Square, Phi...\n",
              "4 -75.171863  ...  (Marian Anderson Community Center, Catharine S...\n",
              "\n",
              "[5 rows x 9 columns]"
            ]
          },
          "metadata": {
            "tags": []
          },
          "execution_count": 13
        },
        {
          "output_type": "stream",
          "text": [
            "time: 28.3 ms\n"
          ],
          "name": "stdout"
        }
      ]
    },
    {
      "cell_type": "code",
      "metadata": {
        "id": "BWElqmRGD-Vh",
        "colab_type": "code",
        "outputId": "e201e323-247c-4b54-c80c-e24f4bcc051e",
        "colab": {
          "base_uri": "https://localhost:8080/",
          "height": 54
        }
      },
      "source": [
        "df[\"address\"][0]"
      ],
      "execution_count": 14,
      "outputs": [
        {
          "output_type": "execute_result",
          "data": {
            "text/plain": [
              "Location(723, South Chadwick Street, Hawthorne, South Philadelphia, Philadelphia, Philadelphia County, Pennsylvania, 19146, United States of America, (39.94273438888889, -75.17000927777778, 0.0))"
            ]
          },
          "metadata": {
            "tags": []
          },
          "execution_count": 14
        },
        {
          "output_type": "stream",
          "text": [
            "time: 4.93 ms\n"
          ],
          "name": "stdout"
        }
      ]
    },
    {
      "cell_type": "code",
      "metadata": {
        "id": "-0DzQAmyD-YZ",
        "colab_type": "code",
        "colab": {}
      },
      "source": [
        ""
      ],
      "execution_count": 0,
      "outputs": []
    }
  ]
}